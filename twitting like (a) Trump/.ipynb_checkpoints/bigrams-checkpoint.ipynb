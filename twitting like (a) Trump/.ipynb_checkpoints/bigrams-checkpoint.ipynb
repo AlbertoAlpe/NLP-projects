{
 "cells": [
  {
   "cell_type": "code",
   "execution_count": 8,
   "metadata": {},
   "outputs": [],
   "source": [
    "import os\n",
    "import csv"
   ]
  },
  {
   "cell_type": "markdown",
   "metadata": {},
   "source": [
    "Lettura del trump twitter archive"
   ]
  },
  {
   "cell_type": "code",
   "execution_count": 9,
   "metadata": {},
   "outputs": [],
   "source": [
    "file_name = 'tweets.csv'\n",
    "current_dir = os.getcwd()\n",
    "file_path = os.path.join(current_dir, 'trump_twitter_archive/', file_name)\n",
    "\n",
    "with open(file_path, 'r', encoding='utf-8') as train:\n",
    "   prime_10_righe = train.readlines()[:10]"
   ]
  },
  {
   "cell_type": "raw",
   "metadata": {},
   "source": [
    "print('ciao')"
   ]
  },
  {
   "cell_type": "code",
   "execution_count": null,
   "metadata": {},
   "outputs": [],
   "source": []
  },
  {
   "cell_type": "code",
   "execution_count": null,
   "metadata": {},
   "outputs": [],
   "source": [
    "for riga in prime_10_righe:\n",
    "   riga = riga.split()\n",
    "   print(riga)"
   ]
  },
  {
   "cell_type": "code",
   "execution_count": 10,
   "metadata": {},
   "outputs": [
    {
     "name": "stdout",
     "output_type": "stream",
     "text": [
      "['source,text,created_at,retweet_count,favorite_count,is_retweet,id_str']\n",
      "['Twitter', 'for', 'iPhone,LOSER!', 'https://t.co/p5imhMJqS1,05-18-2020', '14:55:14,32295,135445,false,1262396333064892416']\n",
      "['Twitter', 'for', 'iPhone,Most', 'of', 'the', 'money', 'raised', 'by', 'the', 'RINO', 'losers', 'of', 'the', 'so-called', '“Lincoln', 'Project”', 'goes', 'into', 'their', 'own', 'pockets.', 'With', 'what', 'I’ve', 'done', 'on', 'Judges', 'Taxes', 'Regulations', 'Healthcare', 'the', 'Military', 'Vets', '(Choice!)', '&amp;', 'protecting', 'our', 'great', '2A', 'they', 'should', 'love', 'Trump.', 'Problem', 'is', 'I', 'BEAT', 'THEM', 'ALL!,05-05-2020', '18:18:26,19706,82425,false,1257736426206031874']\n",
      "['Twitter', 'for', 'iPhone,....because', 'they', 'don’t', 'know', 'how', 'to', 'win', 'and', 'their', 'so-called', 'Lincoln', 'Project', 'is', 'a', 'disgrace', 'to', 'Honest', 'Abe.', 'I', 'don’t', 'know', 'what', 'Kellyanne', 'did', 'to', 'her', 'deranged', 'loser', 'of', 'a', 'husband', 'Moonface', 'but', 'it', 'must', 'have', 'been', 'really', 'bad.', 'John', 'Weaver', 'lost', 'big', 'for', 'Kasich', '(to', 'me).', 'Crazed', 'Rick', 'Wilson....,05-05-2020', '04:46:34,12665,56868,false,1257532112233803782']\n",
      "['Twitter', 'for', 'iPhone,....lost', 'for', 'Evan', '“McMuffin”', 'McMullin', '(to', 'me).', 'Steve', 'Schmidt', '&amp;', 'Reed', 'Galvin', 'lost', 'for', 'John', 'McCain', 'Romney’s', 'campaign', 'manager', '(?)', 'lost', 'big', 'to', '“O”', '&amp;', 'Jennifer', 'Horn', 'got', 'thrown', 'out', 'of', 'the', 'New', 'Hampshire', 'Republican', 'Party.', 'They’re', 'all', 'LOSERS', 'but', 'Abe', 'Lincoln', 'Republican', 'is', 'all', 'smiles!,05-05-2020', '04:46:34,13855,62268,false,1257532114666508291']\n",
      "['Twitter', 'for', 'iPhone,....get', 'even', 'for', 'all', 'of', 'their', 'many', 'failures.', 'You', 'see', 'these', 'loser', 'types', 'don’t', 'care', 'about', '252', 'new', 'Federal', 'Judges', '2', 'great', 'Supreme', 'Court', 'Justices', 'a', 'rebuilt', 'military', 'a', 'protected', '2nd', 'Amendment', 'biggest', 'EVER', 'Tax', '&amp;', 'Regulation', 'cuts', 'and', 'much', 'more.', 'I', 'didn’t', 'use', 'any', 'of', 'them....,05-05-2020', '04:46:33,8122,33261,false,1257532110971318274']\n",
      "['Twitter', 'for', 'iPhone,Cryin', 'Chuck', 'Schumer', 'compared', 'to', 'what', 'other', 'Senators', 'have', 'brought', 'home', 'to', 'their', 'states', 'has', 'brought', 'very', 'little', 'back', 'to', 'N.Y.', 'A', 'totally', 'overrated', 'loser', 'the', 'one', 'thing', 'he', 'has', 'given', 'them', 'is', 'SALT.', 'He', 'never', 'even', 'called', 'me', 'to', 'stop', 'it.', 'No', 'wonder', 'Cuomo', '&amp;', 'most', 'others', 'can’t', 'stand', 'him.', 'AOC!,05-01-2020', '12:14:36,21049,90556,false,1256195312965877760']\n",
      "['Twitter', 'for', 'iPhone,They', 'are', 'Fake', 'News', 'Losers!', 'https://t.co/3RHcBZogms,04-18-2020', '03:35:10,17404,70340,false,1251353550703247361']\n",
      "['Twitter', 'for', 'iPhone,The', 'Wall', 'Street', 'Journal', 'Editorial', 'Board', 'doesn’t', 'have', 'a', 'clue', 'on', 'how', 'to', 'fight', 'and', 'win.', 'Their', 'views', 'on', 'Tariffs', '&amp;', 'Trade', 'are', 'losers', 'for', 'the', 'U.S.', 'but', 'winners', 'for', 'other', 'countries', 'including', 'China.', 'If', 'we', 'followed', 'their', 'standards', 'we’d', 'have', 'no', 'Country', 'left.', 'They', 'should', 'love', 'Sleepy', 'Joe!,04-11-2020', '22:35:35,17187,73928,false,1249103831994118146']\n",
      "['Twitter', 'for', 'iPhone,Pocahontas', 'working', 'in', 'conjunction', 'with', 'the', 'Democrat', 'Party', 'totally', 'destroyed', 'the', 'campaign', 'of', 'Bernie', 'Sanders.', 'If', 'she', 'would', 'have', 'quit', '3', 'days', 'earlier', 'Sanders', 'would', 'have', 'beaten', 'Biden', 'in', 'a', 'route', 'it', 'wouldn’t', 'even', 'have', 'been', 'close.', 'They', 'also', 'got', 'two', 'other', 'losers', 'to', 'support', 'Sleepy', 'Joe!,03-11-2020', '04:55:59,19927,102684,false,1237603152490147850']\n"
     ]
    }
   ],
   "source": [
    "for riga in prime_10_righe:\n",
    "   riga = riga.split()\n",
    "   print(riga)"
   ]
  },
  {
   "cell_type": "code",
   "execution_count": null,
   "metadata": {},
   "outputs": [],
   "source": []
  }
 ],
 "metadata": {
  "kernelspec": {
   "display_name": "Python 3",
   "language": "python",
   "name": "python3"
  },
  "language_info": {
   "codemirror_mode": {
    "name": "ipython",
    "version": 3
   },
   "file_extension": ".py",
   "mimetype": "text/x-python",
   "name": "python",
   "nbconvert_exporter": "python",
   "pygments_lexer": "ipython3",
   "version": "3.8.5"
  }
 },
 "nbformat": 4,
 "nbformat_minor": 2
}
